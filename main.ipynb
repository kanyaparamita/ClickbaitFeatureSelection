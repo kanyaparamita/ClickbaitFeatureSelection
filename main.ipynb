{
 "cells": [
  {
   "cell_type": "code",
   "execution_count": 1,
   "id": "231489d0",
   "metadata": {},
   "outputs": [],
   "source": [
    "from src.dataprep.loader import load_txt_data\n",
    "from src.dataprep.preprocess import preprocess_data, balance_data\n",
    "from src.features.extractor import extract_features\n",
    "\n",
    "import pandas as pd"
   ]
  },
  {
   "cell_type": "markdown",
   "id": "761a7e14",
   "metadata": {},
   "source": [
    "# Load & Preprocess Data"
   ]
  },
  {
   "cell_type": "code",
   "execution_count": 2,
   "id": "7ec5b392",
   "metadata": {},
   "outputs": [],
   "source": [
    "clickbait_df = load_txt_data('./dataset/clickbait_data.txt')\n",
    "clickbait_df = preprocess_data(clickbait_df, '1')"
   ]
  },
  {
   "cell_type": "code",
   "execution_count": 3,
   "id": "f0037a93",
   "metadata": {},
   "outputs": [
    {
     "data": {
      "text/html": [
       "<div>\n",
       "<style scoped>\n",
       "    .dataframe tbody tr th:only-of-type {\n",
       "        vertical-align: middle;\n",
       "    }\n",
       "\n",
       "    .dataframe tbody tr th {\n",
       "        vertical-align: top;\n",
       "    }\n",
       "\n",
       "    .dataframe thead th {\n",
       "        text-align: right;\n",
       "    }\n",
       "</style>\n",
       "<table border=\"1\" class=\"dataframe\">\n",
       "  <thead>\n",
       "    <tr style=\"text-align: right;\">\n",
       "      <th></th>\n",
       "      <th>headline</th>\n",
       "      <th>label</th>\n",
       "    </tr>\n",
       "  </thead>\n",
       "  <tbody>\n",
       "    <tr>\n",
       "      <th>0</th>\n",
       "      <td>Should I Get Bings</td>\n",
       "      <td>1</td>\n",
       "    </tr>\n",
       "    <tr>\n",
       "      <th>1</th>\n",
       "      <td>Which TV Female Friend Group Do You Belong In</td>\n",
       "      <td>1</td>\n",
       "    </tr>\n",
       "    <tr>\n",
       "      <th>2</th>\n",
       "      <td>The New \"Star Wars: The Force Awakens\" Trailer...</td>\n",
       "      <td>1</td>\n",
       "    </tr>\n",
       "    <tr>\n",
       "      <th>3</th>\n",
       "      <td>This Vine Of New York On \"Celebrity Big Brothe...</td>\n",
       "      <td>1</td>\n",
       "    </tr>\n",
       "    <tr>\n",
       "      <th>4</th>\n",
       "      <td>A Couple Did A Stunning Photo Shoot With Their...</td>\n",
       "      <td>1</td>\n",
       "    </tr>\n",
       "    <tr>\n",
       "      <th>...</th>\n",
       "      <td>...</td>\n",
       "      <td>...</td>\n",
       "    </tr>\n",
       "    <tr>\n",
       "      <th>15995</th>\n",
       "      <td>There Was A Mini \"Sisterhood Of The Traveling ...</td>\n",
       "      <td>1</td>\n",
       "    </tr>\n",
       "    <tr>\n",
       "      <th>15996</th>\n",
       "      <td>21 Dogs Who Are Thankful For Their Best Friends</td>\n",
       "      <td>1</td>\n",
       "    </tr>\n",
       "    <tr>\n",
       "      <th>15997</th>\n",
       "      <td>People Are Proving No Dick Is Too Big By Dropp...</td>\n",
       "      <td>1</td>\n",
       "    </tr>\n",
       "    <tr>\n",
       "      <th>15998</th>\n",
       "      <td>I'm An Atheist, But I'm Not</td>\n",
       "      <td>1</td>\n",
       "    </tr>\n",
       "    <tr>\n",
       "      <th>15999</th>\n",
       "      <td>An Artist Drew Disney Men As Justin Bieber And...</td>\n",
       "      <td>1</td>\n",
       "    </tr>\n",
       "  </tbody>\n",
       "</table>\n",
       "<p>15999 rows × 2 columns</p>\n",
       "</div>"
      ],
      "text/plain": [
       "                                                headline label\n",
       "0                                     Should I Get Bings     1\n",
       "1          Which TV Female Friend Group Do You Belong In     1\n",
       "2      The New \"Star Wars: The Force Awakens\" Trailer...     1\n",
       "3      This Vine Of New York On \"Celebrity Big Brothe...     1\n",
       "4      A Couple Did A Stunning Photo Shoot With Their...     1\n",
       "...                                                  ...   ...\n",
       "15995  There Was A Mini \"Sisterhood Of The Traveling ...     1\n",
       "15996    21 Dogs Who Are Thankful For Their Best Friends     1\n",
       "15997  People Are Proving No Dick Is Too Big By Dropp...     1\n",
       "15998                        I'm An Atheist, But I'm Not     1\n",
       "15999  An Artist Drew Disney Men As Justin Bieber And...     1\n",
       "\n",
       "[15999 rows x 2 columns]"
      ]
     },
     "execution_count": 3,
     "metadata": {},
     "output_type": "execute_result"
    }
   ],
   "source": [
    "clickbait_df"
   ]
  },
  {
   "cell_type": "code",
   "execution_count": 4,
   "id": "dbc3d4f0",
   "metadata": {},
   "outputs": [],
   "source": [
    "nonclickbait_df = load_txt_data('./dataset/non_clickbait_data.txt')\n",
    "nonclickbait_df = preprocess_data(nonclickbait_df, '-1')"
   ]
  },
  {
   "cell_type": "code",
   "execution_count": 5,
   "id": "7734afd7",
   "metadata": {},
   "outputs": [
    {
     "data": {
      "text/html": [
       "<div>\n",
       "<style scoped>\n",
       "    .dataframe tbody tr th:only-of-type {\n",
       "        vertical-align: middle;\n",
       "    }\n",
       "\n",
       "    .dataframe tbody tr th {\n",
       "        vertical-align: top;\n",
       "    }\n",
       "\n",
       "    .dataframe thead th {\n",
       "        text-align: right;\n",
       "    }\n",
       "</style>\n",
       "<table border=\"1\" class=\"dataframe\">\n",
       "  <thead>\n",
       "    <tr style=\"text-align: right;\">\n",
       "      <th></th>\n",
       "      <th>headline</th>\n",
       "      <th>label</th>\n",
       "    </tr>\n",
       "  </thead>\n",
       "  <tbody>\n",
       "    <tr>\n",
       "      <th>0</th>\n",
       "      <td>Bill Changing Credit Card Rules Is Sent to Oba...</td>\n",
       "      <td>-1</td>\n",
       "    </tr>\n",
       "    <tr>\n",
       "      <th>1</th>\n",
       "      <td>Yankees Pitchers Trade Fielding Drills for Put...</td>\n",
       "      <td>-1</td>\n",
       "    </tr>\n",
       "    <tr>\n",
       "      <th>2</th>\n",
       "      <td>Coldplay's new album hits stores worldwide thi...</td>\n",
       "      <td>-1</td>\n",
       "    </tr>\n",
       "    <tr>\n",
       "      <th>3</th>\n",
       "      <td>U.N. Leader Presses Sri Lanka on Speeding Reli...</td>\n",
       "      <td>-1</td>\n",
       "    </tr>\n",
       "    <tr>\n",
       "      <th>4</th>\n",
       "      <td>White House Announces International Meetings t...</td>\n",
       "      <td>-1</td>\n",
       "    </tr>\n",
       "    <tr>\n",
       "      <th>...</th>\n",
       "      <td>...</td>\n",
       "      <td>...</td>\n",
       "    </tr>\n",
       "    <tr>\n",
       "      <th>9996</th>\n",
       "      <td>Pentagon unable to explain 'mystery missile' v...</td>\n",
       "      <td>-1</td>\n",
       "    </tr>\n",
       "    <tr>\n",
       "      <th>9997</th>\n",
       "      <td>Blair: G8 leaders announce $50 billion aid inc...</td>\n",
       "      <td>-1</td>\n",
       "    </tr>\n",
       "    <tr>\n",
       "      <th>9998</th>\n",
       "      <td>To Make Female Hearts Flutter in Iraq, Throw a...</td>\n",
       "      <td>-1</td>\n",
       "    </tr>\n",
       "    <tr>\n",
       "      <th>9999</th>\n",
       "      <td>Drone smartphone app to help heart attack vict...</td>\n",
       "      <td>-1</td>\n",
       "    </tr>\n",
       "    <tr>\n",
       "      <th>10000</th>\n",
       "      <td>Netanyahu Urges Pope Benedict, in Israel, to D...</td>\n",
       "      <td>-1</td>\n",
       "    </tr>\n",
       "  </tbody>\n",
       "</table>\n",
       "<p>10001 rows × 2 columns</p>\n",
       "</div>"
      ],
      "text/plain": [
       "                                                headline label\n",
       "0      Bill Changing Credit Card Rules Is Sent to Oba...    -1\n",
       "1      Yankees Pitchers Trade Fielding Drills for Put...    -1\n",
       "2      Coldplay's new album hits stores worldwide thi...    -1\n",
       "3      U.N. Leader Presses Sri Lanka on Speeding Reli...    -1\n",
       "4      White House Announces International Meetings t...    -1\n",
       "...                                                  ...   ...\n",
       "9996   Pentagon unable to explain 'mystery missile' v...    -1\n",
       "9997   Blair: G8 leaders announce $50 billion aid inc...    -1\n",
       "9998   To Make Female Hearts Flutter in Iraq, Throw a...    -1\n",
       "9999   Drone smartphone app to help heart attack vict...    -1\n",
       "10000  Netanyahu Urges Pope Benedict, in Israel, to D...    -1\n",
       "\n",
       "[10001 rows x 2 columns]"
      ]
     },
     "execution_count": 5,
     "metadata": {},
     "output_type": "execute_result"
    }
   ],
   "source": [
    "nonclickbait_df"
   ]
  },
  {
   "cell_type": "markdown",
   "id": "dac5b0a3",
   "metadata": {},
   "source": [
    "# Balance Data"
   ]
  },
  {
   "cell_type": "code",
   "execution_count": 6,
   "id": "bee3a8f7",
   "metadata": {},
   "outputs": [],
   "source": [
    "clickbait_df, nonclickbait_df = balance_data(clickbait_df, nonclickbait_df, 10000)"
   ]
  },
  {
   "cell_type": "code",
   "execution_count": 7,
   "id": "972c9c06",
   "metadata": {},
   "outputs": [
    {
     "data": {
      "text/plain": [
       "10000"
      ]
     },
     "execution_count": 7,
     "metadata": {},
     "output_type": "execute_result"
    }
   ],
   "source": [
    "clickbait_df.shape[0]"
   ]
  },
  {
   "cell_type": "code",
   "execution_count": 8,
   "id": "73cd7cd9",
   "metadata": {},
   "outputs": [
    {
     "data": {
      "text/plain": [
       "10000"
      ]
     },
     "execution_count": 8,
     "metadata": {},
     "output_type": "execute_result"
    }
   ],
   "source": [
    "nonclickbait_df.shape[0]"
   ]
  },
  {
   "cell_type": "code",
   "execution_count": 9,
   "id": "f38a2a60",
   "metadata": {},
   "outputs": [],
   "source": [
    "df = pd.concat([clickbait_df, nonclickbait_df], ignore_index=True)"
   ]
  },
  {
   "cell_type": "code",
   "execution_count": 10,
   "id": "65048ffe",
   "metadata": {},
   "outputs": [
    {
     "data": {
      "text/html": [
       "<div>\n",
       "<style scoped>\n",
       "    .dataframe tbody tr th:only-of-type {\n",
       "        vertical-align: middle;\n",
       "    }\n",
       "\n",
       "    .dataframe tbody tr th {\n",
       "        vertical-align: top;\n",
       "    }\n",
       "\n",
       "    .dataframe thead th {\n",
       "        text-align: right;\n",
       "    }\n",
       "</style>\n",
       "<table border=\"1\" class=\"dataframe\">\n",
       "  <thead>\n",
       "    <tr style=\"text-align: right;\">\n",
       "      <th></th>\n",
       "      <th>headline</th>\n",
       "      <th>label</th>\n",
       "    </tr>\n",
       "  </thead>\n",
       "  <tbody>\n",
       "    <tr>\n",
       "      <th>0</th>\n",
       "      <td>24 Guys Who Totally Rocked The Man Bun In 2015</td>\n",
       "      <td>1</td>\n",
       "    </tr>\n",
       "    <tr>\n",
       "      <th>1</th>\n",
       "      <td>Can You Identify The Disney Character By Just ...</td>\n",
       "      <td>1</td>\n",
       "    </tr>\n",
       "    <tr>\n",
       "      <th>2</th>\n",
       "      <td>7 Easy Dinners That Are Tasty AF</td>\n",
       "      <td>1</td>\n",
       "    </tr>\n",
       "    <tr>\n",
       "      <th>3</th>\n",
       "      <td>21 Things That Mildly Thrill Everyone Who Work...</td>\n",
       "      <td>1</td>\n",
       "    </tr>\n",
       "    <tr>\n",
       "      <th>4</th>\n",
       "      <td>We Tried On The Most Perverted Men's Halloween...</td>\n",
       "      <td>1</td>\n",
       "    </tr>\n",
       "    <tr>\n",
       "      <th>...</th>\n",
       "      <td>...</td>\n",
       "      <td>...</td>\n",
       "    </tr>\n",
       "    <tr>\n",
       "      <th>19995</th>\n",
       "      <td>Getting Specific in Order to Get Confirmed\\nAm...</td>\n",
       "      <td>-1</td>\n",
       "    </tr>\n",
       "    <tr>\n",
       "      <th>19996</th>\n",
       "      <td>FedEx Earnings Fall, but Market Share Gains\\n2...</td>\n",
       "      <td>-1</td>\n",
       "    </tr>\n",
       "    <tr>\n",
       "      <th>19997</th>\n",
       "      <td>Iran will continue work on nuclear fuel cycle</td>\n",
       "      <td>-1</td>\n",
       "    </tr>\n",
       "    <tr>\n",
       "      <th>19998</th>\n",
       "      <td>For UConn, Trouble Ahead and Behind\\nAlbania S...</td>\n",
       "      <td>-1</td>\n",
       "    </tr>\n",
       "    <tr>\n",
       "      <th>19999</th>\n",
       "      <td>US Defense Secretary announces cuts in Pentago...</td>\n",
       "      <td>-1</td>\n",
       "    </tr>\n",
       "  </tbody>\n",
       "</table>\n",
       "<p>20000 rows × 2 columns</p>\n",
       "</div>"
      ],
      "text/plain": [
       "                                                headline label\n",
       "0         24 Guys Who Totally Rocked The Man Bun In 2015     1\n",
       "1      Can You Identify The Disney Character By Just ...     1\n",
       "2                       7 Easy Dinners That Are Tasty AF     1\n",
       "3      21 Things That Mildly Thrill Everyone Who Work...     1\n",
       "4      We Tried On The Most Perverted Men's Halloween...     1\n",
       "...                                                  ...   ...\n",
       "19995  Getting Specific in Order to Get Confirmed\\nAm...    -1\n",
       "19996  FedEx Earnings Fall, but Market Share Gains\\n2...    -1\n",
       "19997      Iran will continue work on nuclear fuel cycle    -1\n",
       "19998  For UConn, Trouble Ahead and Behind\\nAlbania S...    -1\n",
       "19999  US Defense Secretary announces cuts in Pentago...    -1\n",
       "\n",
       "[20000 rows x 2 columns]"
      ]
     },
     "execution_count": 10,
     "metadata": {},
     "output_type": "execute_result"
    }
   ],
   "source": [
    "df"
   ]
  },
  {
   "cell_type": "markdown",
   "id": "f3c6a188",
   "metadata": {},
   "source": [
    "# Features Extraction"
   ]
  },
  {
   "cell_type": "code",
   "execution_count": 11,
   "id": "b8f99dbe",
   "metadata": {},
   "outputs": [
    {
     "name": "stdout",
     "output_type": "stream",
     "text": [
      "0.99995\r"
     ]
    }
   ],
   "source": [
    "df_features = extract_features(df)"
   ]
  },
  {
   "cell_type": "code",
   "execution_count": 12,
   "id": "0c20a5cd",
   "metadata": {},
   "outputs": [],
   "source": [
    "df_features.to_csv('dataset/df_features.csv', index=False)"
   ]
  },
  {
   "cell_type": "code",
   "execution_count": 13,
   "id": "f930bdf0",
   "metadata": {},
   "outputs": [
    {
     "data": {
      "text/html": [
       "<div>\n",
       "<style scoped>\n",
       "    .dataframe tbody tr th:only-of-type {\n",
       "        vertical-align: middle;\n",
       "    }\n",
       "\n",
       "    .dataframe tbody tr th {\n",
       "        vertical-align: top;\n",
       "    }\n",
       "\n",
       "    .dataframe thead th {\n",
       "        text-align: right;\n",
       "    }\n",
       "</style>\n",
       "<table border=\"1\" class=\"dataframe\">\n",
       "  <thead>\n",
       "    <tr style=\"text-align: right;\">\n",
       "      <th></th>\n",
       "      <th>headline</th>\n",
       "      <th>class</th>\n",
       "      <th>#words</th>\n",
       "      <th>word length</th>\n",
       "      <th>stopword%</th>\n",
       "      <th>has number</th>\n",
       "      <th>has determiner</th>\n",
       "      <th>has pronoun</th>\n",
       "      <th>has comparative</th>\n",
       "      <th>has superlative</th>\n",
       "      <th>has sup or comp</th>\n",
       "      <th>sentiment value</th>\n",
       "    </tr>\n",
       "  </thead>\n",
       "  <tbody>\n",
       "    <tr>\n",
       "      <th>0</th>\n",
       "      <td>24 guys who totally rocked the man bun in 2015</td>\n",
       "      <td>1</td>\n",
       "      <td>10</td>\n",
       "      <td>3.7</td>\n",
       "      <td>0.3</td>\n",
       "      <td>1</td>\n",
       "      <td>1</td>\n",
       "      <td>1</td>\n",
       "      <td>0</td>\n",
       "      <td>0</td>\n",
       "      <td>0</td>\n",
       "      <td>1</td>\n",
       "    </tr>\n",
       "    <tr>\n",
       "      <th>1</th>\n",
       "      <td>can you identify the disney character by just ...</td>\n",
       "      <td>1</td>\n",
       "      <td>10</td>\n",
       "      <td>4.8</td>\n",
       "      <td>0.6</td>\n",
       "      <td>0</td>\n",
       "      <td>1</td>\n",
       "      <td>1</td>\n",
       "      <td>0</td>\n",
       "      <td>0</td>\n",
       "      <td>0</td>\n",
       "      <td>3</td>\n",
       "    </tr>\n",
       "    <tr>\n",
       "      <th>2</th>\n",
       "      <td>7 easy dinners that are tasty af</td>\n",
       "      <td>1</td>\n",
       "      <td>7</td>\n",
       "      <td>3.714286</td>\n",
       "      <td>0.285714</td>\n",
       "      <td>1</td>\n",
       "      <td>0</td>\n",
       "      <td>1</td>\n",
       "      <td>0</td>\n",
       "      <td>0</td>\n",
       "      <td>0</td>\n",
       "      <td>3</td>\n",
       "    </tr>\n",
       "    <tr>\n",
       "      <th>3</th>\n",
       "      <td>21 things that mildly thrill everyone who work...</td>\n",
       "      <td>1</td>\n",
       "      <td>10</td>\n",
       "      <td>4.8</td>\n",
       "      <td>0.4</td>\n",
       "      <td>1</td>\n",
       "      <td>0</td>\n",
       "      <td>1</td>\n",
       "      <td>0</td>\n",
       "      <td>0</td>\n",
       "      <td>0</td>\n",
       "      <td>3</td>\n",
       "    </tr>\n",
       "    <tr>\n",
       "      <th>4</th>\n",
       "      <td>we tried on the most perverted men's halloween...</td>\n",
       "      <td>1</td>\n",
       "      <td>10</td>\n",
       "      <td>4.7</td>\n",
       "      <td>0.5</td>\n",
       "      <td>0</td>\n",
       "      <td>1</td>\n",
       "      <td>1</td>\n",
       "      <td>0</td>\n",
       "      <td>1</td>\n",
       "      <td>1</td>\n",
       "      <td>2</td>\n",
       "    </tr>\n",
       "    <tr>\n",
       "      <th>...</th>\n",
       "      <td>...</td>\n",
       "      <td>...</td>\n",
       "      <td>...</td>\n",
       "      <td>...</td>\n",
       "      <td>...</td>\n",
       "      <td>...</td>\n",
       "      <td>...</td>\n",
       "      <td>...</td>\n",
       "      <td>...</td>\n",
       "      <td>...</td>\n",
       "      <td>...</td>\n",
       "      <td>...</td>\n",
       "    </tr>\n",
       "    <tr>\n",
       "      <th>19995</th>\n",
       "      <td>getting specific in order to get confirmed\\nam...</td>\n",
       "      <td>-1</td>\n",
       "      <td>27</td>\n",
       "      <td>4.814815</td>\n",
       "      <td>0.296296</td>\n",
       "      <td>0</td>\n",
       "      <td>1</td>\n",
       "      <td>0</td>\n",
       "      <td>0</td>\n",
       "      <td>0</td>\n",
       "      <td>0</td>\n",
       "      <td>1</td>\n",
       "    </tr>\n",
       "    <tr>\n",
       "      <th>19996</th>\n",
       "      <td>fedex earnings fall, but market share gains\\n2...</td>\n",
       "      <td>-1</td>\n",
       "      <td>18</td>\n",
       "      <td>4.777778</td>\n",
       "      <td>0.055556</td>\n",
       "      <td>1</td>\n",
       "      <td>0</td>\n",
       "      <td>0</td>\n",
       "      <td>0</td>\n",
       "      <td>0</td>\n",
       "      <td>0</td>\n",
       "      <td>1</td>\n",
       "    </tr>\n",
       "    <tr>\n",
       "      <th>19997</th>\n",
       "      <td>iran will continue work on nuclear fuel cycle</td>\n",
       "      <td>-1</td>\n",
       "      <td>8</td>\n",
       "      <td>4.75</td>\n",
       "      <td>0.25</td>\n",
       "      <td>0</td>\n",
       "      <td>0</td>\n",
       "      <td>0</td>\n",
       "      <td>0</td>\n",
       "      <td>0</td>\n",
       "      <td>0</td>\n",
       "      <td>3</td>\n",
       "    </tr>\n",
       "    <tr>\n",
       "      <th>19998</th>\n",
       "      <td>for uconn, trouble ahead and behind\\nalbania s...</td>\n",
       "      <td>-1</td>\n",
       "      <td>23</td>\n",
       "      <td>4.304348</td>\n",
       "      <td>0.217391</td>\n",
       "      <td>0</td>\n",
       "      <td>0</td>\n",
       "      <td>0</td>\n",
       "      <td>0</td>\n",
       "      <td>0</td>\n",
       "      <td>0</td>\n",
       "      <td>1</td>\n",
       "    </tr>\n",
       "    <tr>\n",
       "      <th>19999</th>\n",
       "      <td>us defense secretary announces cuts in pentago...</td>\n",
       "      <td>-1</td>\n",
       "      <td>8</td>\n",
       "      <td>6.125</td>\n",
       "      <td>0.25</td>\n",
       "      <td>0</td>\n",
       "      <td>0</td>\n",
       "      <td>0</td>\n",
       "      <td>0</td>\n",
       "      <td>0</td>\n",
       "      <td>0</td>\n",
       "      <td>2</td>\n",
       "    </tr>\n",
       "  </tbody>\n",
       "</table>\n",
       "<p>20000 rows × 12 columns</p>\n",
       "</div>"
      ],
      "text/plain": [
       "                                                headline class #words  \\\n",
       "0         24 guys who totally rocked the man bun in 2015     1     10   \n",
       "1      can you identify the disney character by just ...     1     10   \n",
       "2                       7 easy dinners that are tasty af     1      7   \n",
       "3      21 things that mildly thrill everyone who work...     1     10   \n",
       "4      we tried on the most perverted men's halloween...     1     10   \n",
       "...                                                  ...   ...    ...   \n",
       "19995  getting specific in order to get confirmed\\nam...    -1     27   \n",
       "19996  fedex earnings fall, but market share gains\\n2...    -1     18   \n",
       "19997      iran will continue work on nuclear fuel cycle    -1      8   \n",
       "19998  for uconn, trouble ahead and behind\\nalbania s...    -1     23   \n",
       "19999  us defense secretary announces cuts in pentago...    -1      8   \n",
       "\n",
       "      word length stopword% has number has determiner has pronoun  \\\n",
       "0             3.7       0.3          1              1           1   \n",
       "1             4.8       0.6          0              1           1   \n",
       "2        3.714286  0.285714          1              0           1   \n",
       "3             4.8       0.4          1              0           1   \n",
       "4             4.7       0.5          0              1           1   \n",
       "...           ...       ...        ...            ...         ...   \n",
       "19995    4.814815  0.296296          0              1           0   \n",
       "19996    4.777778  0.055556          1              0           0   \n",
       "19997        4.75      0.25          0              0           0   \n",
       "19998    4.304348  0.217391          0              0           0   \n",
       "19999       6.125      0.25          0              0           0   \n",
       "\n",
       "      has comparative has superlative has sup or comp sentiment value  \n",
       "0                   0               0               0               1  \n",
       "1                   0               0               0               3  \n",
       "2                   0               0               0               3  \n",
       "3                   0               0               0               3  \n",
       "4                   0               1               1               2  \n",
       "...               ...             ...             ...             ...  \n",
       "19995               0               0               0               1  \n",
       "19996               0               0               0               1  \n",
       "19997               0               0               0               3  \n",
       "19998               0               0               0               1  \n",
       "19999               0               0               0               2  \n",
       "\n",
       "[20000 rows x 12 columns]"
      ]
     },
     "execution_count": 13,
     "metadata": {},
     "output_type": "execute_result"
    }
   ],
   "source": [
    "df_features"
   ]
  },
  {
   "cell_type": "markdown",
   "id": "4ce46f50",
   "metadata": {},
   "source": [
    "# XGB Feature Importance"
   ]
  },
  {
   "cell_type": "code",
   "execution_count": 26,
   "id": "4931da56",
   "metadata": {},
   "outputs": [],
   "source": [
    "import pandas as pd\n",
    "import xgboost as xgb\n",
    "from collections import Counter\n",
    "import numpy as np\n",
    "import matplotlib.pyplot as plt"
   ]
  },
  {
   "cell_type": "code",
   "execution_count": 27,
   "id": "e122b6e9",
   "metadata": {},
   "outputs": [],
   "source": [
    "df_features = pd.read_csv(\"dataset/df_features.csv\")"
   ]
  },
  {
   "cell_type": "code",
   "execution_count": 28,
   "id": "4fbd9390",
   "metadata": {},
   "outputs": [],
   "source": [
    "col = 'class'\n",
    "conditions = [df_features[col] == 1, df_features[col] == -1]\n",
    "choices = [\"1\", \"0\"]  # changing labels to 1 and 0 since that is required\n",
    "\n",
    "df_features['class'] = np.select(conditions, choices, default=np.nan)\n",
    "df_features['class'] = pd.to_numeric(df_features['class'])"
   ]
  },
  {
   "cell_type": "code",
   "execution_count": 29,
   "id": "9af0f865",
   "metadata": {},
   "outputs": [
    {
     "data": {
      "text/html": [
       "<div>\n",
       "<style scoped>\n",
       "    .dataframe tbody tr th:only-of-type {\n",
       "        vertical-align: middle;\n",
       "    }\n",
       "\n",
       "    .dataframe tbody tr th {\n",
       "        vertical-align: top;\n",
       "    }\n",
       "\n",
       "    .dataframe thead th {\n",
       "        text-align: right;\n",
       "    }\n",
       "</style>\n",
       "<table border=\"1\" class=\"dataframe\">\n",
       "  <thead>\n",
       "    <tr style=\"text-align: right;\">\n",
       "      <th></th>\n",
       "      <th>headline</th>\n",
       "      <th>class</th>\n",
       "      <th>#words</th>\n",
       "      <th>word length</th>\n",
       "      <th>stopword%</th>\n",
       "      <th>has number</th>\n",
       "      <th>has determiner</th>\n",
       "      <th>has pronoun</th>\n",
       "      <th>has comparative</th>\n",
       "      <th>has superlative</th>\n",
       "      <th>has sup or comp</th>\n",
       "      <th>sentiment value</th>\n",
       "    </tr>\n",
       "  </thead>\n",
       "  <tbody>\n",
       "    <tr>\n",
       "      <th>0</th>\n",
       "      <td>24 guys who totally rocked the man bun in 2015</td>\n",
       "      <td>1</td>\n",
       "      <td>10</td>\n",
       "      <td>3.700000</td>\n",
       "      <td>0.300000</td>\n",
       "      <td>1</td>\n",
       "      <td>1</td>\n",
       "      <td>1</td>\n",
       "      <td>0</td>\n",
       "      <td>0</td>\n",
       "      <td>0</td>\n",
       "      <td>1</td>\n",
       "    </tr>\n",
       "    <tr>\n",
       "      <th>1</th>\n",
       "      <td>can you identify the disney character by just ...</td>\n",
       "      <td>1</td>\n",
       "      <td>10</td>\n",
       "      <td>4.800000</td>\n",
       "      <td>0.600000</td>\n",
       "      <td>0</td>\n",
       "      <td>1</td>\n",
       "      <td>1</td>\n",
       "      <td>0</td>\n",
       "      <td>0</td>\n",
       "      <td>0</td>\n",
       "      <td>3</td>\n",
       "    </tr>\n",
       "    <tr>\n",
       "      <th>2</th>\n",
       "      <td>7 easy dinners that are tasty af</td>\n",
       "      <td>1</td>\n",
       "      <td>7</td>\n",
       "      <td>3.714286</td>\n",
       "      <td>0.285714</td>\n",
       "      <td>1</td>\n",
       "      <td>0</td>\n",
       "      <td>1</td>\n",
       "      <td>0</td>\n",
       "      <td>0</td>\n",
       "      <td>0</td>\n",
       "      <td>3</td>\n",
       "    </tr>\n",
       "    <tr>\n",
       "      <th>3</th>\n",
       "      <td>21 things that mildly thrill everyone who work...</td>\n",
       "      <td>1</td>\n",
       "      <td>10</td>\n",
       "      <td>4.800000</td>\n",
       "      <td>0.400000</td>\n",
       "      <td>1</td>\n",
       "      <td>0</td>\n",
       "      <td>1</td>\n",
       "      <td>0</td>\n",
       "      <td>0</td>\n",
       "      <td>0</td>\n",
       "      <td>3</td>\n",
       "    </tr>\n",
       "    <tr>\n",
       "      <th>4</th>\n",
       "      <td>we tried on the most perverted men's halloween...</td>\n",
       "      <td>1</td>\n",
       "      <td>10</td>\n",
       "      <td>4.700000</td>\n",
       "      <td>0.500000</td>\n",
       "      <td>0</td>\n",
       "      <td>1</td>\n",
       "      <td>1</td>\n",
       "      <td>0</td>\n",
       "      <td>1</td>\n",
       "      <td>1</td>\n",
       "      <td>2</td>\n",
       "    </tr>\n",
       "    <tr>\n",
       "      <th>...</th>\n",
       "      <td>...</td>\n",
       "      <td>...</td>\n",
       "      <td>...</td>\n",
       "      <td>...</td>\n",
       "      <td>...</td>\n",
       "      <td>...</td>\n",
       "      <td>...</td>\n",
       "      <td>...</td>\n",
       "      <td>...</td>\n",
       "      <td>...</td>\n",
       "      <td>...</td>\n",
       "      <td>...</td>\n",
       "    </tr>\n",
       "    <tr>\n",
       "      <th>19995</th>\n",
       "      <td>getting specific in order to get confirmed\\nam...</td>\n",
       "      <td>0</td>\n",
       "      <td>27</td>\n",
       "      <td>4.814815</td>\n",
       "      <td>0.296296</td>\n",
       "      <td>0</td>\n",
       "      <td>1</td>\n",
       "      <td>0</td>\n",
       "      <td>0</td>\n",
       "      <td>0</td>\n",
       "      <td>0</td>\n",
       "      <td>1</td>\n",
       "    </tr>\n",
       "    <tr>\n",
       "      <th>19996</th>\n",
       "      <td>fedex earnings fall, but market share gains\\n2...</td>\n",
       "      <td>0</td>\n",
       "      <td>18</td>\n",
       "      <td>4.777778</td>\n",
       "      <td>0.055556</td>\n",
       "      <td>1</td>\n",
       "      <td>0</td>\n",
       "      <td>0</td>\n",
       "      <td>0</td>\n",
       "      <td>0</td>\n",
       "      <td>0</td>\n",
       "      <td>1</td>\n",
       "    </tr>\n",
       "    <tr>\n",
       "      <th>19997</th>\n",
       "      <td>iran will continue work on nuclear fuel cycle</td>\n",
       "      <td>0</td>\n",
       "      <td>8</td>\n",
       "      <td>4.750000</td>\n",
       "      <td>0.250000</td>\n",
       "      <td>0</td>\n",
       "      <td>0</td>\n",
       "      <td>0</td>\n",
       "      <td>0</td>\n",
       "      <td>0</td>\n",
       "      <td>0</td>\n",
       "      <td>3</td>\n",
       "    </tr>\n",
       "    <tr>\n",
       "      <th>19998</th>\n",
       "      <td>for uconn, trouble ahead and behind\\nalbania s...</td>\n",
       "      <td>0</td>\n",
       "      <td>23</td>\n",
       "      <td>4.304348</td>\n",
       "      <td>0.217391</td>\n",
       "      <td>0</td>\n",
       "      <td>0</td>\n",
       "      <td>0</td>\n",
       "      <td>0</td>\n",
       "      <td>0</td>\n",
       "      <td>0</td>\n",
       "      <td>1</td>\n",
       "    </tr>\n",
       "    <tr>\n",
       "      <th>19999</th>\n",
       "      <td>us defense secretary announces cuts in pentago...</td>\n",
       "      <td>0</td>\n",
       "      <td>8</td>\n",
       "      <td>6.125000</td>\n",
       "      <td>0.250000</td>\n",
       "      <td>0</td>\n",
       "      <td>0</td>\n",
       "      <td>0</td>\n",
       "      <td>0</td>\n",
       "      <td>0</td>\n",
       "      <td>0</td>\n",
       "      <td>2</td>\n",
       "    </tr>\n",
       "  </tbody>\n",
       "</table>\n",
       "<p>20000 rows × 12 columns</p>\n",
       "</div>"
      ],
      "text/plain": [
       "                                                headline  class  #words  \\\n",
       "0         24 guys who totally rocked the man bun in 2015      1      10   \n",
       "1      can you identify the disney character by just ...      1      10   \n",
       "2                       7 easy dinners that are tasty af      1       7   \n",
       "3      21 things that mildly thrill everyone who work...      1      10   \n",
       "4      we tried on the most perverted men's halloween...      1      10   \n",
       "...                                                  ...    ...     ...   \n",
       "19995  getting specific in order to get confirmed\\nam...      0      27   \n",
       "19996  fedex earnings fall, but market share gains\\n2...      0      18   \n",
       "19997      iran will continue work on nuclear fuel cycle      0       8   \n",
       "19998  for uconn, trouble ahead and behind\\nalbania s...      0      23   \n",
       "19999  us defense secretary announces cuts in pentago...      0       8   \n",
       "\n",
       "       word length  stopword%  has number  has determiner  has pronoun  \\\n",
       "0         3.700000   0.300000           1               1            1   \n",
       "1         4.800000   0.600000           0               1            1   \n",
       "2         3.714286   0.285714           1               0            1   \n",
       "3         4.800000   0.400000           1               0            1   \n",
       "4         4.700000   0.500000           0               1            1   \n",
       "...            ...        ...         ...             ...          ...   \n",
       "19995     4.814815   0.296296           0               1            0   \n",
       "19996     4.777778   0.055556           1               0            0   \n",
       "19997     4.750000   0.250000           0               0            0   \n",
       "19998     4.304348   0.217391           0               0            0   \n",
       "19999     6.125000   0.250000           0               0            0   \n",
       "\n",
       "       has comparative  has superlative  has sup or comp  sentiment value  \n",
       "0                    0                0                0                1  \n",
       "1                    0                0                0                3  \n",
       "2                    0                0                0                3  \n",
       "3                    0                0                0                3  \n",
       "4                    0                1                1                2  \n",
       "...                ...              ...              ...              ...  \n",
       "19995                0                0                0                1  \n",
       "19996                0                0                0                1  \n",
       "19997                0                0                0                3  \n",
       "19998                0                0                0                1  \n",
       "19999                0                0                0                2  \n",
       "\n",
       "[20000 rows x 12 columns]"
      ]
     },
     "execution_count": 29,
     "metadata": {},
     "output_type": "execute_result"
    }
   ],
   "source": [
    "df_features"
   ]
  },
  {
   "cell_type": "markdown",
   "id": "232c7bfe",
   "metadata": {},
   "source": [
    "### Feature importance generation"
   ]
  },
  {
   "cell_type": "code",
   "execution_count": 41,
   "id": "2ff6a9d2",
   "metadata": {},
   "outputs": [],
   "source": [
    "label = df_features[['class']]\n",
    "features = df_features.iloc[:, 2:]\n",
    "\n",
    "data_matrix = xgb.DMatrix(features, label)\n",
    "\n",
    "params = {'objective':'binary:logistic'} #params need to be explicity stated, binary:logistic chosen since that is default in API settings\n",
    "trained = xgb.train(params, data_matrix)\n",
    "\n",
    "feature_importance = trained.get_score(importance_type='weight')"
   ]
  },
  {
   "cell_type": "code",
   "execution_count": 42,
   "id": "805071e6",
   "metadata": {},
   "outputs": [
    {
     "data": {
      "text/plain": [
       "{'#words': 147.0,\n",
       " 'word length': 129.0,\n",
       " 'stopword%': 88.0,\n",
       " 'has number': 39.0,\n",
       " 'has determiner': 31.0,\n",
       " 'has pronoun': 22.0,\n",
       " 'has comparative': 1.0,\n",
       " 'has superlative': 12.0,\n",
       " 'has sup or comp': 2.0,\n",
       " 'sentiment value': 38.0}"
      ]
     },
     "execution_count": 42,
     "metadata": {},
     "output_type": "execute_result"
    }
   ],
   "source": [
    "feature_importance"
   ]
  },
  {
   "cell_type": "code",
   "execution_count": 43,
   "id": "d9a3b6d7",
   "metadata": {},
   "outputs": [],
   "source": [
    "k = Counter(feature_importance)\n",
    "feature_importance_table = pd.DataFrame.from_dict(k, orient='index').reset_index()\n",
    "feature_importance_table.columns = ['Features', 'Weights']"
   ]
  },
  {
   "cell_type": "code",
   "execution_count": 44,
   "id": "08c48841",
   "metadata": {},
   "outputs": [
    {
     "data": {
      "image/png": "[encoded data removed]",
      "text/plain": [
       "<Figure size 640x480 with 1 Axes>"
      ]
     },
     "metadata": {},
     "output_type": "display_data"
    }
   ],
   "source": [
    "#plot the feature importance\n",
    "fts = feature_importance_table['Features']\n",
    "weights = feature_importance_table['Weights']\n",
    "y_pos = np.arange(len(weights))\n",
    "\n",
    "plt.bar(y_pos, weights, color=\"#5dbcd2\")\n",
    "plt.xticks(y_pos, fts, rotation = 90)\n",
    "plt.xlabel(\"Features\", fontsize=15)\n",
    "plt.ylabel(\"Weights\", fontsize=15)\n",
    "plt.savefig(\"featureimp.png\", bbox_inches='tight')\n",
    "plt.show()"
   ]
  },
  {
   "cell_type": "markdown",
   "id": "7ea1cd77",
   "metadata": {},
   "source": [
    "# Model Training: XGB, SVM, Random Forrest"
   ]
  },
  {
   "cell_type": "code",
   "execution_count": 46,
   "id": "1f988d15",
   "metadata": {},
   "outputs": [],
   "source": [
    "import pandas as pd\n",
    "import numpy as np\n",
    "from sklearn.metrics import make_scorer, accuracy_score, precision_score, recall_score, f1_score\n",
    "from sklearn.svm import SVC\n",
    "import xgboost as xgb\n",
    "from sklearn.ensemble import RandomForestClassifier\n",
    "from sklearn.model_selection import cross_validate\n",
    "from sklearn.model_selection import cross_val_predict\n",
    "from sklearn.metrics import confusion_matrix\n",
    "import seaborn as sns\n",
    "from matplotlib import pyplot as plt\n",
    "from sklearn.metrics import roc_auc_score\n",
    "from sklearn.metrics import roc_curve"
   ]
  },
  {
   "cell_type": "code",
   "execution_count": 47,
   "id": "8696ec48",
   "metadata": {},
   "outputs": [],
   "source": [
    "loaded_data = pd.read_csv(\"dataset/df_features.csv\")\n",
    "\n",
    "col = 'class'\n",
    "conditions = [loaded_data[col] == 1, loaded_data[col] == -1]\n",
    "choices = [\"1\", \"0\"] #changing labels to 1 and 0 since that is required\n",
    "\n",
    "loaded_data['class'] = np.select(conditions, choices, default=np.nan)\n",
    "loaded_data['class'] = pd.to_numeric(loaded_data['class'])\n",
    "\n",
    "label = loaded_data[['class']]\n",
    "features = loaded_data.iloc[:, 2:]\n",
    "features = features.drop(['has superlative', 'has comparative','has sup or comp'], axis =1)"
   ]
  },
  {
   "cell_type": "code",
   "execution_count": 48,
   "id": "500a4c1f",
   "metadata": {},
   "outputs": [],
   "source": [
    "#convert to array\n",
    "label_arr = np.ravel(label)\n",
    "features_arr = np.array(features)"
   ]
  },
  {
   "cell_type": "code",
   "execution_count": 49,
   "id": "60a29d7c",
   "metadata": {},
   "outputs": [],
   "source": [
    "#scoring to get accuracy, precision, recall, f1-score\n",
    "scoring_tech = {'accuracy' : make_scorer(accuracy_score),\n",
    "           'precision' : make_scorer(precision_score),\n",
    "           'recall' : make_scorer(recall_score),\n",
    "           'f1_score' : make_scorer(f1_score)}"
   ]
  },
  {
   "cell_type": "code",
   "execution_count": 50,
   "id": "b8b9d4b3",
   "metadata": {},
   "outputs": [],
   "source": [
    "## XGBoost\n",
    "xgb_clf = xgb.XGBClassifier()\n",
    "score_xgb = cross_validate(xgb_clf, features_arr, label_arr, cv=10, scoring=scoring_tech)\n",
    "xgb_results = pd.DataFrame.from_dict(score_xgb)\n",
    "y_pred_xgb = cross_val_predict(xgb_clf, features_arr, label_arr, cv=10)"
   ]
  },
  {
   "cell_type": "code",
   "execution_count": 51,
   "id": "01477ac0",
   "metadata": {},
   "outputs": [],
   "source": [
    "## Suport Vector Classifier\n",
    "svm_clf = SVC(gamma='auto') #all default parameters, gamma has to be explicitly stated\n",
    "score_svm = cross_validate(svm_clf, features_arr, label_arr, cv=10, scoring=scoring_tech)\n",
    "svm_results = pd.DataFrame.from_dict(score_svm)\n",
    "y_pred_svm = cross_val_predict(svm_clf, features_arr, label_arr, cv=10)"
   ]
  },
  {
   "cell_type": "code",
   "execution_count": 52,
   "id": "f36dfb8a",
   "metadata": {},
   "outputs": [],
   "source": [
    "## Random Forest\n",
    "rf_clf = RandomForestClassifier(n_estimators=100) #default value\n",
    "score_rf = cross_validate(rf_clf, features_arr, label_arr, cv=10, scoring=scoring_tech)\n",
    "rf_results = pd.DataFrame.from_dict(score_rf)\n",
    "y_pred_rf = cross_val_predict(rf_clf, features_arr, label_arr, cv=10)"
   ]
  },
  {
   "cell_type": "markdown",
   "id": "b8372225",
   "metadata": {},
   "source": [
    "### Confusion Matrix Plot"
   ]
  },
  {
   "cell_type": "code",
   "execution_count": 53,
   "id": "92389d08",
   "metadata": {},
   "outputs": [
    {
     "data": {
      "text/plain": [
       "Text(0.5, 1.0, 'Confusion Matrix for XGBoost')"
      ]
     },
     "execution_count": 53,
     "metadata": {},
     "output_type": "execute_result"
    },
    {
     "data": {
      "image/png": "[encoded data removed]",
      "text/plain": [
       "<Figure size 640x480 with 2 Axes>"
      ]
     },
     "metadata": {},
     "output_type": "display_data"
    }
   ],
   "source": [
    "##XGBoost\n",
    "cmtx_xgb = pd.DataFrame(\n",
    "    confusion_matrix(label_arr, y_pred_xgb, labels=[1, 0]),\n",
    "    index=['Clickbait', 'Non-Clickbait'],\n",
    "    columns=['Clickbait', 'Non-Clickbait']\n",
    ")\n",
    "#plot\n",
    "ax = sns.heatmap(cmtx_xgb, annot=True, fmt='d', cmap=sns.light_palette((210, 90, 60), input=\"husl\"))\n",
    "ax.set_xlabel(\"Predicted\")\n",
    "ax.set_ylabel(\"True\")\n",
    "ax.set_title(\"Confusion Matrix for XGBoost\")"
   ]
  },
  {
   "cell_type": "code",
   "execution_count": 54,
   "id": "a1356a4e",
   "metadata": {},
   "outputs": [
    {
     "data": {
      "text/plain": [
       "Text(0.5, 1.0, 'Confusion Matrix for SVM')"
      ]
     },
     "execution_count": 54,
     "metadata": {},
     "output_type": "execute_result"
    },
    {
     "data": {
      "image/png": "[encoded data removed]",
      "text/plain": [
       "<Figure size 640x480 with 2 Axes>"
      ]
     },
     "metadata": {},
     "output_type": "display_data"
    }
   ],
   "source": [
    "##SVM\n",
    "cmtx_svm = pd.DataFrame(\n",
    "    confusion_matrix(label_arr, y_pred_svm, labels=[1, 0]),\n",
    "    index=['Clickbait', 'Non-Clickbait'],\n",
    "    columns=['Clickbait', 'Non-Clickbait']\n",
    ")\n",
    "#plot\n",
    "ax = sns.heatmap(cmtx_svm, annot=True, fmt='d', cmap=sns.light_palette((210, 90, 60), input=\"husl\"))\n",
    "ax.set_xlabel(\"Predicted\")\n",
    "ax.set_ylabel(\"True\")\n",
    "ax.set_title(\"Confusion Matrix for SVM\")"
   ]
  },
  {
   "cell_type": "code",
   "execution_count": 55,
   "id": "db429428",
   "metadata": {},
   "outputs": [
    {
     "data": {
      "text/plain": [
       "Text(0.5, 1.0, 'Confusion Matrix for Random Forest')"
      ]
     },
     "execution_count": 55,
     "metadata": {},
     "output_type": "execute_result"
    },
    {
     "data": {
      "image/png": "[encoded data removed]",
      "text/plain": [
       "<Figure size 640x480 with 2 Axes>"
      ]
     },
     "metadata": {},
     "output_type": "display_data"
    }
   ],
   "source": [
    "##RBF\n",
    "cmtx_rf = pd.DataFrame(\n",
    "    confusion_matrix(label_arr, y_pred_rf, labels=[1, 0]),\n",
    "    index=['Clickbait', 'Non-Clickbait'],\n",
    "    columns=['Clickbait', 'Non-Clickbait']\n",
    ")\n",
    "#plot\n",
    "ax = sns.heatmap(cmtx_rf, annot=True, fmt='d', cmap=sns.light_palette((210, 90, 60), input=\"husl\"))\n",
    "ax.set_xlabel(\"Predicted\")\n",
    "ax.set_ylabel(\"True\")\n",
    "ax.set_title(\"Confusion Matrix for Random Forest\")"
   ]
  },
  {
   "cell_type": "code",
   "execution_count": 56,
   "id": "a35aad40",
   "metadata": {},
   "outputs": [
    {
     "data": {
      "text/plain": [
       "<matplotlib.legend.Legend at 0x128839c90>"
      ]
     },
     "execution_count": 56,
     "metadata": {},
     "output_type": "execute_result"
    },
    {
     "data": {
      "image/png": "[encoded data removed]",
      "text/plain": [
       "<Figure size 640x480 with 1 Axes>"
      ]
     },
     "metadata": {},
     "output_type": "display_data"
    }
   ],
   "source": [
    "### ROC Curve\n",
    "auc_xgb = roc_auc_score(label_arr, y_pred_xgb)\n",
    "fpr_xgb, tpr_xgb, thresholds_xgb = roc_curve(label_arr, y_pred_xgb)\n",
    "\n",
    "auc_svm = roc_auc_score(label_arr, y_pred_svm)\n",
    "fpr_svm, tpr_svm, thresholds_svm = roc_curve(label_arr, y_pred_svm)\n",
    "\n",
    "auc_rf = roc_auc_score(label_arr, y_pred_rf)\n",
    "fpr_rf, tpr_rf, thresholds_rf = roc_curve(label_arr, y_pred_rf)\n",
    "\n",
    "plt.plot(fpr_xgb, tpr_xgb, label='XGBoost = %0.3f' % auc_xgb, color=\"#5dbcd2\", linewidth=2)\n",
    "plt.plot(fpr_svm, tpr_svm, label='SVM = %0.3f' % auc_svm, color=\"#ffcc00\", linewidth=2)\n",
    "plt.plot(fpr_rf, tpr_rf, label='Random Forest = %0.3f' % auc_rf, color=\"#ff66cc\", linewidth=2)\n",
    "plt.plot([0, 1], [0, 1], '--', color=\"#878787\")  # random predictions curve\n",
    "plt.xlim([0.0, 1.0])\n",
    "plt.ylim([0.0, 1.0])\n",
    "plt.xlabel('False Positive Rate', fontsize=15)\n",
    "plt.ylabel('True Positive Rate', fontsize=15)\n",
    "plt.title('Receiver Operating Characteristic', fontsize=18)\n",
    "plt.legend(loc=\"lower right\", title=\"Area Under Curve\")"
   ]
  },
  {
   "cell_type": "code",
   "execution_count": null,
   "id": "9b1babb5",
   "metadata": {},
   "outputs": [],
   "source": []
  }
 ],
 "metadata": {
  "kernelspec": {
   "display_name": "Python 3",
   "language": "python",
   "name": "python3"
  },
  "language_info": {
   "codemirror_mode": {
    "name": "ipython",
    "version": 3
   },
   "file_extension": ".py",
   "mimetype": "text/x-python",
   "name": "python",
   "nbconvert_exporter": "python",
   "pygments_lexer": "ipython3",
   "version": "3.11.3"
  }
 },
 "nbformat": 4,
 "nbformat_minor": 5
}
